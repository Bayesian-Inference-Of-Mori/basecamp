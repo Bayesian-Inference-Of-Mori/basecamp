{
 "cells": [
  {
   "cell_type": "code",
   "execution_count": 2,
   "metadata": {},
   "outputs": [
    {
     "name": "stderr",
     "output_type": "stream",
     "text": [
      "WARNING (pytensor.tensor.blas): Using NumPy C-API based implementation for BLAS functions.\n"
     ]
    }
   ],
   "source": [
    "from functools import partial\n",
    "\n",
    "import pymc as pm\n",
    "import numpy as np\n",
    "import pytensor.tensor as pt"
   ]
  },
  {
   "cell_type": "code",
   "execution_count": 3,
   "metadata": {},
   "outputs": [
    {
     "data": {
      "text/plain": [
       "(array(0.80189558), 0)"
      ]
     },
     "execution_count": 3,
     "metadata": {},
     "output_type": "execute_result"
    }
   ],
   "source": [
    "normal_dist = pm.Normal.dist()\n",
    "# Just patching the draw function for reproducibility\n",
    "rng = np.random.default_rng(seed=sum(map(ord, \"dimensionality\")))\n",
    "draw = partial(pm.draw, random_seed=rng)\n",
    "normal_draw = draw(normal_dist)\n",
    "normal_draw, normal_draw.ndim"
   ]
  },
  {
   "cell_type": "code",
   "execution_count": 6,
   "metadata": {},
   "outputs": [
    {
     "data": {
      "text/plain": [
       "(array([1.00079993, 0.05592055, 3.39045196, 5.10657367, 5.64904215]), 1)"
      ]
     },
     "execution_count": 6,
     "metadata": {},
     "output_type": "execute_result"
    }
   ],
   "source": [
    "mvnormal_dist = pm.MvNormal.dist(mu=[1,2,3,4,5], cov=np.eye(5))\n",
    "mvnormal_draw = draw(mvnormal_dist)\n",
    "mvnormal_draw, mvnormal_draw.ndim"
   ]
  },
  {
   "cell_type": "code",
   "execution_count": 7,
   "metadata": {},
   "outputs": [
    {
     "data": {
      "text/plain": [
       "(array([  1.81833093,   9.4216054 , 103.71998379]), 1)"
      ]
     },
     "execution_count": 7,
     "metadata": {},
     "output_type": "execute_result"
    }
   ],
   "source": [
    "test_dist = pm.Normal.dist(mu=[1, 10, 100], sigma = [1, 2, 3])\n",
    "draw(test_dist), draw(test_dist).ndim"
   ]
  },
  {
   "cell_type": "code",
   "execution_count": null,
   "metadata": {},
   "outputs": [],
   "source": []
  }
 ],
 "metadata": {
  "kernelspec": {
   "display_name": "BayesianInference",
   "language": "python",
   "name": "bayesianinference"
  },
  "language_info": {
   "codemirror_mode": {
    "name": "ipython",
    "version": 3
   },
   "file_extension": ".py",
   "mimetype": "text/x-python",
   "name": "python",
   "nbconvert_exporter": "python",
   "pygments_lexer": "ipython3",
   "version": "3.12.5"
  }
 },
 "nbformat": 4,
 "nbformat_minor": 2
}
