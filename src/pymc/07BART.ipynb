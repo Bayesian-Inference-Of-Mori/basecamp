{
 "cells": [
  {
   "cell_type": "code",
   "execution_count": 2,
   "metadata": {},
   "outputs": [],
   "source": [
    "from pathlib import Path\n",
    "\n",
    "import arviz as az\n",
    "import matplotlib.pyplot as plt\n",
    "import numpy as np\n",
    "import pandas as pd\n",
    "import pymc as pm\n",
    "import pymc_bart as pmb\n",
    "\n",
    "from sklearn.model_selection import train_test_split\n",
    "\n",
    "%config InlineBackend.figure_format = \"retina\"\n",
    "\n",
    "print(f\"Running on PyMC v{pm.__version__}\")\n",
    "\n",
    "\n",
    "RANDOM_SEED = 5781\n",
    "np.random.seed(RANDOM_SEED)\n",
    "az.style.use(\"arviz-darkgrid\")"
   ]
  },
  {
   "cell_type": "code",
   "execution_count": null,
   "metadata": {},
   "outputs": [],
   "source": [
    "try:\n",
    "    coal = np.loadtxt(Path(\"..\", \"data\", \"coal.csv\"))\n",
    "except FileNotFoundError:\n",
    "    coal = np.loadtxt(pm.get_data(\"coal.csv\"))\n",
    "\n",
    "# discretize data\n",
    "years = int(coal.max() - coal.min())\n",
    "bins = years // 4\n",
    "hist, x_edges = np.histogram(coal, bins=bins)\n",
    "# compute the location of the centers of the discretized data\n",
    "x_centers = x_edges[:-1] + (x_edges[1] - x_edges[0]) / 2\n",
    "# xdata needs to be 2D for BART\n",
    "x_data = x_centers[:, None]\n",
    "# express data as the rate number of disaster per year\n",
    "y_data = hist"
   ]
  },
  {
   "cell_type": "code",
   "execution_count": null,
   "metadata": {},
   "outputs": [],
   "source": [
    "with pm.Model() as model_coal:\n",
    "    μ_ = pmb.BART(\"μ_\", X=x_data, Y=np.log(y_data), m=20)\n",
    "    μ = pm.Deterministic(\"μ\", pm.math.exp(μ_))\n",
    "    y_pred = pm.Poisson(\"y_pred\", mu=μ, observed=y_data)\n",
    "    idata_coal = pm.sample(random_seed=RANDOM_SEED)"
   ]
  },
  {
   "cell_type": "code",
   "execution_count": null,
   "metadata": {},
   "outputs": [],
   "source": [
    "_, ax = plt.subplots(figsize=(10, 6))\n",
    "\n",
    "rates = idata_coal.posterior[\"μ\"] / 4\n",
    "rate_mean = rates.mean(dim=[\"draw\", \"chain\"])\n",
    "ax.plot(x_centers, rate_mean, \"w\", lw=3)\n",
    "ax.plot(x_centers, y_data / 4, \"k.\")\n",
    "az.plot_hdi(x_centers, rates, smooth=False)\n",
    "az.plot_hdi(x_centers, rates, hdi_prob=0.5, smooth=False, plot_kwargs={\"alpha\": 0})\n",
    "ax.plot(coal, np.zeros_like(coal) - 0.5, \"k|\")\n",
    "ax.set_xlabel(\"years\")\n",
    "ax.set_ylabel(\"rate\");"
   ]
  },
  {
   "cell_type": "code",
   "execution_count": null,
   "metadata": {},
   "outputs": [],
   "source": [
    "plt.step(x_data, rates.sel(chain=0, draw=[3, 10]).T);"
   ]
  },
  {
   "cell_type": "markdown",
   "metadata": {},
   "source": [
    "# EXAMPLE2: Biking"
   ]
  },
  {
   "cell_type": "code",
   "execution_count": null,
   "metadata": {},
   "outputs": [],
   "source": [
    "try:\n",
    "    bikes = pd.read_csv(Path(\"..\", \"data\", \"bikes.csv\"))\n",
    "except FileNotFoundError:\n",
    "    bikes = pd.read_csv(pm.get_data(\"bikes.csv\"))\n",
    "\n",
    "features = [\"hour\", \"temperature\", \"humidity\", \"workingday\"]\n",
    "\n",
    "X = bikes[features]\n",
    "Y = bikes[\"count\"]"
   ]
  },
  {
   "cell_type": "code",
   "execution_count": null,
   "metadata": {},
   "outputs": [],
   "source": [
    "with pm.Model() as model_bikes:\n",
    "    α = pm.Exponential(\"α\", 1)\n",
    "    μ = pmb.BART(\"μ\", X, np.log(Y), m=50)\n",
    "    y = pm.NegativeBinomial(\"y\", mu=pm.math.exp(μ), alpha=α, observed=Y)\n",
    "    idata_bikes = pm.sample(compute_convergence_checks=False, random_seed=RANDOM_SEED)"
   ]
  },
  {
   "cell_type": "code",
   "execution_count": null,
   "metadata": {},
   "outputs": [],
   "source": [
    "az.plot_trace(idata_bikes, var_names=[\"α\"], kind=\"rank_bars\");"
   ]
  },
  {
   "cell_type": "code",
   "execution_count": null,
   "metadata": {},
   "outputs": [],
   "source": [
    "pmb.plot_convergence(idata_bikes, var_name=\"μ\");"
   ]
  },
  {
   "cell_type": "code",
   "execution_count": null,
   "metadata": {},
   "outputs": [],
   "source": [
    "pmb.plot_pdp(μ, X=X, Y=Y, grid=(2, 2), func=np.exp, var_discrete=[3]);"
   ]
  },
  {
   "cell_type": "code",
   "execution_count": null,
   "metadata": {},
   "outputs": [],
   "source": [
    "pmb.plot_variable_importance(idata_bikes, μ, X);"
   ]
  },
  {
   "cell_type": "code",
   "execution_count": null,
   "metadata": {},
   "outputs": [],
   "source": [
    "X_train, X_test, Y_train, Y_test = train_test_split(X, Y, test_size=0.2, random_state=RANDOM_SEED)"
   ]
  },
  {
   "cell_type": "code",
   "execution_count": null,
   "metadata": {},
   "outputs": [],
   "source": [
    "with pm.Model() as model_oos_regression:\n",
    "    X = pm.MutableData(\"X\", X_train)\n",
    "    Y = Y_train\n",
    "    α = pm.Exponential(\"α\", 1)\n",
    "    μ = pmb.BART(\"μ\", X, np.log(Y))\n",
    "    y = pm.NegativeBinomial(\"y\", mu=pm.math.exp(μ), alpha=α, observed=Y, shape=μ.shape)\n",
    "    idata_oos_regression = pm.sample(random_seed=RANDOM_SEED)\n",
    "    posterior_predictive_oos_regression_train = pm.sample_posterior_predictive(\n",
    "        trace=idata_oos_regression, random_seed=RANDOM_SEED\n",
    "    )"
   ]
  },
  {
   "cell_type": "code",
   "execution_count": null,
   "metadata": {},
   "outputs": [],
   "source": [
    "with model_oos_regression:\n",
    "    X.set_value(X_test)\n",
    "    posterior_predictive_oos_regression_test = pm.sample_posterior_predictive(\n",
    "        trace=idata_oos_regression, random_seed=RANDOM_SEED\n",
    "    )"
   ]
  },
  {
   "cell_type": "code",
   "execution_count": null,
   "metadata": {},
   "outputs": [],
   "source": [
    "fig, ax = plt.subplots(\n",
    "    nrows=2, ncols=1, figsize=(8, 7), sharex=True, sharey=True, layout=\"constrained\"\n",
    ")\n",
    "\n",
    "az.plot_ppc(\n",
    "    data=posterior_predictive_oos_regression_train, kind=\"cumulative\", observed_rug=True, ax=ax[0]\n",
    ")\n",
    "ax[0].set(title=\"Posterior Predictive Check (train)\", xlim=(0, 1_000))\n",
    "\n",
    "az.plot_ppc(\n",
    "    data=posterior_predictive_oos_regression_test, kind=\"cumulative\", observed_rug=True, ax=ax[1]\n",
    ")\n",
    "ax[1].set(title=\"Posterior Predictive Check (test)\", xlim=(0, 1_000));"
   ]
  },
  {
   "cell_type": "markdown",
   "metadata": {},
   "source": [
    "## Time Series"
   ]
  },
  {
   "cell_type": "code",
   "execution_count": null,
   "metadata": {},
   "outputs": [],
   "source": [
    "train_test_hour_split = 19\n",
    "\n",
    "train_bikes = bikes.query(\"hour <= @train_test_hour_split\")\n",
    "test_bikes = bikes.query(\"hour > @train_test_hour_split\")\n",
    "\n",
    "X_train = train_bikes[features]\n",
    "Y_train = train_bikes[\"count\"]\n",
    "\n",
    "X_test = test_bikes[features]\n",
    "Y_test = test_bikes[\"count\"]"
   ]
  },
  {
   "cell_type": "code",
   "execution_count": null,
   "metadata": {},
   "outputs": [],
   "source": [
    "with pm.Model() as model_oos_ts:\n",
    "    X = pm.MutableData(\"X\", X_train)\n",
    "    Y = Y_train\n",
    "    α = pm.Exponential(\"α\", 1 / 10)\n",
    "    μ = pmb.BART(\"μ\", X, np.log(Y))\n",
    "    y = pm.NegativeBinomial(\"y\", mu=pm.math.exp(μ), alpha=α, observed=Y, shape=μ.shape)\n",
    "    idata_oos_ts = pm.sample(random_seed=RANDOM_SEED)\n",
    "    posterior_predictive_oos_ts_train = pm.sample_posterior_predictive(\n",
    "        trace=idata_oos_ts, random_seed=RANDOM_SEED\n",
    "    )"
   ]
  },
  {
   "cell_type": "code",
   "execution_count": null,
   "metadata": {},
   "outputs": [],
   "source": [
    "with model_oos_ts:\n",
    "    X.set_value(X_test)\n",
    "    posterior_predictive_oos_ts_test = pm.sample_posterior_predictive(\n",
    "        trace=idata_oos_ts, random_seed=RANDOM_SEED\n",
    "    )"
   ]
  },
  {
   "cell_type": "code",
   "execution_count": null,
   "metadata": {},
   "outputs": [],
   "source": [
    "fig, ax = plt.subplots(\n",
    "    nrows=2, ncols=1, figsize=(8, 7), sharex=True, sharey=True, layout=\"constrained\"\n",
    ")\n",
    "\n",
    "az.plot_ppc(data=posterior_predictive_oos_ts_train, kind=\"cumulative\", observed_rug=True, ax=ax[0])\n",
    "ax[0].set(title=\"Posterior Predictive Check (train)\", xlim=(0, 1_000))\n",
    "\n",
    "az.plot_ppc(data=posterior_predictive_oos_ts_test, kind=\"cumulative\", observed_rug=True, ax=ax[1])\n",
    "ax[1].set(title=\"Posterior Predictive Check (test)\", xlim=(0, 1_000));"
   ]
  },
  {
   "cell_type": "code",
   "execution_count": null,
   "metadata": {},
   "outputs": [],
   "source": [
    "fig, ax = plt.subplots(figsize=(12, 6))\n",
    "az.plot_hdi(\n",
    "    x=X_train.index,\n",
    "    y=posterior_predictive_oos_ts_train.posterior_predictive[\"y\"],\n",
    "    hdi_prob=0.94,\n",
    "    color=\"C0\",\n",
    "    fill_kwargs={\"alpha\": 0.2, \"label\": r\"94$\\%$ HDI (train)\"},\n",
    "    smooth=False,\n",
    "    ax=ax,\n",
    ")\n",
    "az.plot_hdi(\n",
    "    x=X_train.index,\n",
    "    y=posterior_predictive_oos_ts_train.posterior_predictive[\"y\"],\n",
    "    hdi_prob=0.5,\n",
    "    color=\"C0\",\n",
    "    fill_kwargs={\"alpha\": 0.4, \"label\": r\"50$\\%$ HDI (train)\"},\n",
    "    smooth=False,\n",
    "    ax=ax,\n",
    ")\n",
    "ax.plot(X_train.index, Y_train, label=\"train (observed)\")\n",
    "az.plot_hdi(\n",
    "    x=X_test.index,\n",
    "    y=posterior_predictive_oos_ts_test.posterior_predictive[\"y\"],\n",
    "    hdi_prob=0.94,\n",
    "    color=\"C1\",\n",
    "    fill_kwargs={\"alpha\": 0.2, \"label\": r\"94$\\%$ HDI (test)\"},\n",
    "    smooth=False,\n",
    "    ax=ax,\n",
    ")\n",
    "az.plot_hdi(\n",
    "    x=X_test.index,\n",
    "    y=posterior_predictive_oos_ts_test.posterior_predictive[\"y\"],\n",
    "    hdi_prob=0.5,\n",
    "    color=\"C1\",\n",
    "    fill_kwargs={\"alpha\": 0.4, \"label\": r\"50$\\%$ HDI (test)\"},\n",
    "    smooth=False,\n",
    "    ax=ax,\n",
    ")\n",
    "ax.plot(X_test.index, Y_test, label=\"test (observed)\")\n",
    "ax.axvline(X_train.shape[0], color=\"k\", linestyle=\"--\", label=\"train/test split\")\n",
    "ax.legend(loc=\"center left\", bbox_to_anchor=(1, 0.5))\n",
    "ax.set(\n",
    "    title=\"BART model predictions for bike rentals\",\n",
    "    xlabel=\"observation index\",\n",
    "    ylabel=\"number of rentals\",\n",
    ");"
   ]
  }
 ],
 "metadata": {
  "kernelspec": {
   "display_name": "Python 3.10.14 ('BayesianInference')",
   "language": "python",
   "name": "python3"
  },
  "language_info": {
   "codemirror_mode": {
    "name": "ipython",
    "version": 3
   },
   "file_extension": ".py",
   "mimetype": "text/x-python",
   "name": "python",
   "nbconvert_exporter": "python",
   "pygments_lexer": "ipython3",
   "version": "3.10.14"
  },
  "orig_nbformat": 4,
  "vscode": {
   "interpreter": {
    "hash": "fc79fd73e5164ce4723a9c598ac64aec8017a163f211e9f5fa78c8f017916f92"
   }
  }
 },
 "nbformat": 4,
 "nbformat_minor": 2
}
